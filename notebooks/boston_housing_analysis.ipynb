{
 "cells": [
  {
   "cell_type": "code",
   "execution_count": null,
   "id": "f310f58a",
   "metadata": {},
   "outputs": [],
   "source": [
    "import pandas as pd\n",
    "import numpy as np\n",
    "import matplotlib.pyplot as plt\n",
    "import seaborn as sns\n",
    "from sklearn.datasets import load_boston\n",
    "\n",
    "boston = load_boston()\n",
    "data = pd.DataFrame(boston.data, columns=boston.feature_names)\n",
    "data['PRICE'] = boston.target\n",
    "\n",
    "\n",
    "print(\"Dataset Shape:\", data.shape)\n",
    "print(\"\\nFirst 5 rows:\")\n",
    "display(data.head())\n",
    "\n",
    "print(\"\\nDescriptive Statistics:\")\n",
    "display(data.describe())\n",
    "\n",
    "\n",
    "plt.figure(figsize=(12, 8))\n",
    "sns.heatmap(data.corr(), annot=True, cmap='coolwarm')\n",
    "plt.title(\"Correlation Matrix\")\n",
    "plt.show()\n",
    "\n",
    "\n",
    "plt.figure(figsize=(8, 5))\n",
    "sns.histplot(data['PRICE'], kde=True)\n",
    "plt.title(\"Distribution of Housing Prices\")\n",
    "plt.xlabel(\"Price ($1000s)\")\n",
    "plt.show()\n",
    "\n",
    "\n",
    "plt.figure(figsize=(8, 5))\n",
    "sns.scatterplot(x=data['RM'], y=data['PRICE'])\n",
    "plt.title(\"Number of Rooms vs. Price\")\n",
    "plt.xlabel(\"Average number of rooms\")\n",
    "plt.ylabel(\"Price ($1000s)\")\n",
    "plt.show()\n",
    "\n",
    "plt.figure(figsize=(8, 5))\n",
    "sns.scatterplot(x=data['LSTAT'], y=data['PRICE'])\n",
    "plt.title(\"% Lower Status Population vs. Price\")\n",
    "plt.xlabel(\"% lower status of the population\")\n",
    "plt.ylabel(\"Price ($1000s)\")\n",
    "plt.show()"
   ]
  }
 ],
 "metadata": {
  "language_info": {
   "name": "python"
  }
 },
 "nbformat": 4,
 "nbformat_minor": 5
}
